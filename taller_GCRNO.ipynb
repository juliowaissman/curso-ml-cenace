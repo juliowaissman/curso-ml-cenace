{
  "nbformat": 4,
  "nbformat_minor": 0,
  "metadata": {
    "colab": {
      "name": "taller_GCRNO.ipynb",
      "provenance": []
    },
    "kernelspec": {
      "name": "python3",
      "display_name": "Python 3"
    },
    "language_info": {
      "name": "python"
    }
  },
  "cells": [
    {
      "cell_type": "markdown",
      "metadata": {
        "id": "bob3WviJhK4q"
      },
      "source": [
        "<center>\n",
        "<p><img src=\"https://www.gob.mx/cms/uploads/image/file/179499/outstanding_quienes-somos.jpg\" width=\"300\">\n",
        "</p>\n",
        "\n",
        "\n",
        "\n",
        "# Curso *Machine Learning con uso de pandas, scikit learn y libretas jupyter*\n",
        "\n",
        "# Pequeño taller datos diarios \n",
        "\n",
        "\n",
        "<p> Julio Waissman Vilanova </p>\n",
        "<p>\n",
        "<img src=\"https://identidadbuho.unison.mx/wp-content/uploads/2019/06/letragrama-cmyk-72.jpg\" width=\"80\">\n",
        "</p>\n",
        "</center>\n"
      ]
    },
    {
      "cell_type": "code",
      "metadata": {
        "id": "pDIANd1BhH6R"
      },
      "source": [
        "import numpy as np\n",
        "import pandas as pd\n",
        "import matplotlib.pyplot as plt\n",
        "\n",
        "plt.style.use('ggplot')"
      ],
      "execution_count": 1,
      "outputs": []
    },
    {
      "cell_type": "markdown",
      "metadata": {
        "id": "Z3dKuTWShjLF"
      },
      "source": [
        "# Adquiriendo los datos"
      ]
    },
    {
      "cell_type": "code",
      "metadata": {
        "id": "AF_RDM1RhmBc"
      },
      "source": [
        "url = \"https://github.com/juliowaissman/curso-ml-cenace/raw/main/datos/Dataset_GCRNO_05052021.xlsx\"\n",
        "\n",
        "df = pd.read_excel(url, sheet_name='Datos')\n",
        "df_dic = pd.read_excel(url, sheet_name='Descripción de Variables')\n",
        "\n",
        "df.info()"
      ],
      "execution_count": null,
      "outputs": []
    },
    {
      "cell_type": "code",
      "metadata": {
        "id": "ocQH4M8KiW7Z"
      },
      "source": [
        "df"
      ],
      "execution_count": null,
      "outputs": []
    },
    {
      "cell_type": "code",
      "metadata": {
        "id": "-xtwGQkriJKb"
      },
      "source": [
        "df_dic"
      ],
      "execution_count": null,
      "outputs": []
    },
    {
      "cell_type": "markdown",
      "metadata": {
        "id": "5hnYHLe3kUZx"
      },
      "source": [
        "Como vemos, se tiene la demanda por 24 horas, pero se encuentra en una misma columna. Si quisieramos utilizarlo para hacer el forecasting de la demanda integrada en forma horaria, necesitariamos cambiar esas columnas a instancias, lo que se puede hacer en pandas mas o menos fácil."
      ]
    },
    {
      "cell_type": "code",
      "metadata": {
        "id": "I78eLKXJkomM"
      },
      "source": [
        "df_horario = df.melt(\n",
        "    id_vars= ['FECHA'],\n",
        "    value_vars= [f'DEM_GCRNO_H{i}' for i in range(24)],\n",
        "    var_name=\"Hora\",\n",
        "    value_name=\"Demanda\"\n",
        ").replace(\n",
        "    {f'DEM_GCRNO_H{i}': i for i in range(24)}\n",
        ")\n",
        "\n",
        "df_horario.index = df_horario.FECHA + pd.to_timedelta(df_horario.Hora, unit='h')\n",
        "df_horario.sort_index(inplace=True)\n",
        "df_horario.drop(columns=['FECHA', 'Hora'], inplace=True)\n",
        "\n",
        "df_horario.plot(figsize=(15, 7))"
      ],
      "execution_count": null,
      "outputs": []
    },
    {
      "cell_type": "markdown",
      "metadata": {
        "id": "fgF6A2qirqUe"
      },
      "source": [
        "# Análisis exploratorio de datos\n",
        "\n",
        "1. ¿Cuales son las variables que interesan en un análisis diarios?\n",
        "2. ¿Como se comporta la demanda máxima se acuerdo al mes?\n",
        "3. ¿Que variación se tiene en demanda máxima y mínima por día de la semana?\n",
        "4. ¿Que variaciones hay en el consumo integrado por hora?\n",
        "\n"
      ]
    },
    {
      "cell_type": "code",
      "metadata": {
        "id": "KJ0COlmatjBy"
      },
      "source": [
        "# Agrega cuantas celdas creas necesarias"
      ],
      "execution_count": null,
      "outputs": []
    },
    {
      "cell_type": "markdown",
      "metadata": {
        "id": "N9K2Fl-GsfN0"
      },
      "source": [
        "## Forecasting\n",
        "\n",
        "1. Definir un problema de *forecasting*\n",
        "2. Probar con el uso de *skforcast*\n",
        "3. Ajuster primero un modelo sencillo (`Ridge`) y luego ver que pasa con un modelo más complejo.\n"
      ]
    },
    {
      "cell_type": "code",
      "metadata": {
        "id": "gvOqY0ECtnpH"
      },
      "source": [
        "# Agrega cuantas celdas consideres necesarias"
      ],
      "execution_count": null,
      "outputs": []
    }
  ]
}