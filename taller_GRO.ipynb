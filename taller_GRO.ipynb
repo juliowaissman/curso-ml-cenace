{
  "nbformat": 4,
  "nbformat_minor": 0,
  "metadata": {
    "colab": {
      "name": "taller_GRO.ipynb",
      "provenance": []
    },
    "kernelspec": {
      "name": "python3",
      "display_name": "Python 3"
    },
    "language_info": {
      "name": "python"
    }
  },
  "cells": [
    {
      "cell_type": "markdown",
      "metadata": {
        "id": "6bFS950QLSbn"
      },
      "source": [
        "<center>\n",
        "<p><img src=\"https://www.gob.mx/cms/uploads/image/file/179499/outstanding_quienes-somos.jpg\" width=\"300\">\n",
        "</p>\n",
        "\n",
        "\n",
        "\n",
        "# Curso *Machine Learning con uso de pandas, scikit learn y libretas jupyter*\n",
        "\n",
        "# Analisis demanda Gerncia Oriental \n",
        "\n",
        "\n",
        "<p> Julio Waissman Vilanova </p>\n",
        "<p>\n",
        "<img src=\"https://identidadbuho.unison.mx/wp-content/uploads/2019/06/letragrama-cmyk-72.jpg\" width=\"80\">\n",
        "</p>\n",
        "</center>\n"
      ]
    },
    {
      "cell_type": "code",
      "metadata": {
        "id": "SBmAn3oDLOVy"
      },
      "source": [
        "import numpy as np\n",
        "import pandas as pd\n",
        "import matplotlib.pyplot as plt\n",
        "\n",
        "plt.style.use('ggplot')"
      ],
      "execution_count": 129,
      "outputs": []
    },
    {
      "cell_type": "code",
      "metadata": {
        "id": "u2q_POdTLpHg"
      },
      "source": [
        "url = \"https://github.com/juliowaissman/curso-ml-cenace/raw/main/datos/historico_demanda_temp.xlsx\"\n",
        "\n",
        "df_e = pd.read_excel(url, sheet_name=0)\n",
        "\n",
        "df_e.info()"
      ],
      "execution_count": null,
      "outputs": []
    },
    {
      "cell_type": "code",
      "metadata": {
        "id": "Jyvue-_cMHwx"
      },
      "source": [
        "df = df_e.melt(\n",
        "    id_vars=['DIA', 'Unnamed: 1'], \n",
        "    value_vars=list(range(1, 25)),\n",
        "    var_name='Hora',\n",
        "    value_name='Demanda'\n",
        ")\n",
        "\n",
        "df['Fecha'] = df['Unnamed: 1'] + pd.to_timedelta((df.Hora.values - 1).tolist(), unit='h')\n",
        "df.index = df.Fecha\n",
        "df.sort_index(inplace=True)\n",
        "df.drop(columns=['Fecha', 'Unnamed: 1', 'Hora'], inplace=True)\n",
        "df"
      ],
      "execution_count": null,
      "outputs": []
    },
    {
      "cell_type": "code",
      "metadata": {
        "id": "PJesXAJtRnKh"
      },
      "source": [
        "df.Demanda[70896] = (df.Demanda[70895] + df.Demanda[70897])/2 # Un dato string por algun errorcillo de dedo"
      ],
      "execution_count": 133,
      "outputs": []
    },
    {
      "cell_type": "code",
      "metadata": {
        "id": "Wb7u-0kAT0ze"
      },
      "source": [
        "df.Demanda = pd.to_numeric(df.Demanda)\n",
        "df.Demanda.plot(figsize=(15,7))"
      ],
      "execution_count": null,
      "outputs": []
    },
    {
      "cell_type": "code",
      "metadata": {
        "id": "kl6ufmTvUpPL"
      },
      "source": [
        "año = 2017\n",
        "df[(df.index.year == año) & (df.index.month == 4)].Demanda.plot(figsize=(15,7))"
      ],
      "execution_count": null,
      "outputs": []
    },
    {
      "cell_type": "markdown",
      "metadata": {
        "id": "79G0_eUsYqU3"
      },
      "source": [
        "Vamos a modificar los datos extremos debido al cambio de horario"
      ]
    },
    {
      "cell_type": "code",
      "metadata": {
        "id": "99od0B5ed6WB"
      },
      "source": [
        "df.loc[(df.Demanda > 8000) | (df.Demanda < 500), 'Demanda']"
      ],
      "execution_count": null,
      "outputs": []
    },
    {
      "cell_type": "code",
      "metadata": {
        "id": "jELJLmP8V8IQ"
      },
      "source": [
        "df.loc[(df.Demanda > 8000) | (df.Demanda < 500), 'Demanda'] = np.NaN\n",
        "df.Demanda.fillna(method='pad', inplace=True)\n",
        "\n",
        "df.Demanda.plot(figsize=(15,7))"
      ],
      "execution_count": null,
      "outputs": []
    },
    {
      "cell_type": "code",
      "metadata": {
        "id": "csESjfFKZha2"
      },
      "source": [
        "df.groupby(df.index.weekday).agg(\n",
        "    {\n",
        "        'Demanda': ['min', 'max', 'mean', 'median', 'std', 'mad']\n",
        "    }\n",
        ")"
      ],
      "execution_count": null,
      "outputs": []
    },
    {
      "cell_type": "code",
      "metadata": {
        "id": "zs0GAU9-cTNm"
      },
      "source": [
        "df[['Demanda']].groupby(df.index.weekday).boxplot(subplots=False, figsize=(15,7))"
      ],
      "execution_count": null,
      "outputs": []
    },
    {
      "cell_type": "code",
      "metadata": {
        "id": "UDGzuYTrchN5"
      },
      "source": [
        "df[['Demanda']].groupby(df.index.month).boxplot(subplots=False, figsize=(15,7))"
      ],
      "execution_count": null,
      "outputs": []
    },
    {
      "cell_type": "code",
      "metadata": {
        "id": "GukCWOEXeHos"
      },
      "source": [
        "df[['Demanda']].groupby(df.index.hour).boxplot(subplots=False, figsize=(15,7))"
      ],
      "execution_count": null,
      "outputs": []
    }
  ]
}